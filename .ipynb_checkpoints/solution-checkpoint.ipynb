{
 "cells": [
  {
   "cell_type": "markdown",
   "metadata": {},
   "source": [
    "# 1 Matrix operations\n",
    "\n",
    "## 1.1 Create a 4*4 identity matrix"
   ]
  },
  {
   "cell_type": "code",
   "execution_count": 253,
   "metadata": {
    "collapsed": true
   },
   "outputs": [],
   "source": [
    "#This project is designed to get familiar with python list and linear algebra\n",
    "#You cannot use import any library yourself, especially numpy\n",
    "\n",
    "A = [[1,2,3], \n",
    "     [2,3,3], \n",
    "     [1,2,5]]\n",
    "\n",
    "B = [[1,2,3,5], \n",
    "     [2,3,3,5], \n",
    "     [1,2,5,1]]\n",
    "\n",
    "#TODO create a 4*4 identity matrix \n",
    "I = [[1,0,0,0], \n",
    "     [0,1,0,0], \n",
    "     [0,0,1,0],\n",
    "     [0,0,0,1]]"
   ]
  },
  {
   "cell_type": "markdown",
   "metadata": {},
   "source": [
    "## 1.2 get the width and height of a matrix. "
   ]
  },
  {
   "cell_type": "code",
   "execution_count": 254,
   "metadata": {
    "collapsed": true
   },
   "outputs": [],
   "source": [
    "#TODO Get the height and weight of a matrix.\n",
    "def shape(M):\n",
    "    r = len(M)\n",
    "    if isinstance(M[0],list):\n",
    "        c = len(M[0])\n",
    "    else:\n",
    "        c = 1\n",
    "    return r,c"
   ]
  },
  {
   "cell_type": "code",
   "execution_count": 255,
   "metadata": {},
   "outputs": [
    {
     "name": "stderr",
     "output_type": "stream",
     "text": [
      ".\n",
      "----------------------------------------------------------------------\n",
      "Ran 1 test in 0.002s\n",
      "\n",
      "OK\n"
     ]
    }
   ],
   "source": [
    "# run following code to test your shape function\n",
    "%run -i -e test.py LinearRegressionTestCase.test_shape"
   ]
  },
  {
   "cell_type": "markdown",
   "metadata": {},
   "source": [
    "## 1.3 round all elements in M to certain decimal points"
   ]
  },
  {
   "cell_type": "code",
   "execution_count": 256,
   "metadata": {
    "collapsed": true
   },
   "outputs": [],
   "source": [
    "# TODO in-place operation, no return value\n",
    "# TODO round all elements in M to decPts\n",
    "def matxRound(M, decPts=4):\n",
    "    r,c = shape(M)\n",
    "    i = 0\n",
    "    while i<r:\n",
    "        j = 0\n",
    "        while j<c:\n",
    "            M[i][j] = round(M[i][j],decPts)\n",
    "            j += 1\n",
    "            pass\n",
    "        i += 1\n",
    "    pass"
   ]
  },
  {
   "cell_type": "code",
   "execution_count": 257,
   "metadata": {},
   "outputs": [
    {
     "name": "stderr",
     "output_type": "stream",
     "text": [
      ".\n",
      "----------------------------------------------------------------------\n",
      "Ran 1 test in 0.009s\n",
      "\n",
      "OK\n"
     ]
    }
   ],
   "source": [
    "# run following code to test your matxRound function\n",
    "%run -i -e test.py LinearRegressionTestCase.test_matxRound"
   ]
  },
  {
   "cell_type": "markdown",
   "metadata": {},
   "source": [
    "## 1.4 compute transpose of M"
   ]
  },
  {
   "cell_type": "code",
   "execution_count": 258,
   "metadata": {
    "collapsed": true
   },
   "outputs": [],
   "source": [
    "#TODO compute transpose of M\n",
    "def transpose(M):\n",
    "    r,c = shape(M)\n",
    "    Mt = []\n",
    "    for e1 in range(0,c):\n",
    "        temp = []\n",
    "        for e2 in range(0,r):\n",
    "            temp.append(M[e2][e1])\n",
    "        Mt.append(temp)\n",
    "    return Mt"
   ]
  },
  {
   "cell_type": "code",
   "execution_count": 259,
   "metadata": {
    "scrolled": true
   },
   "outputs": [
    {
     "name": "stderr",
     "output_type": "stream",
     "text": [
      ".\n",
      "----------------------------------------------------------------------\n",
      "Ran 1 test in 0.005s\n",
      "\n",
      "OK\n"
     ]
    }
   ],
   "source": [
    "# run following code to test your transpose function\n",
    "%run -i -e test.py LinearRegressionTestCase.test_transpose"
   ]
  },
  {
   "cell_type": "markdown",
   "metadata": {},
   "source": [
    "## 1.5 compute AB. return None if the dimensions don't match"
   ]
  },
  {
   "cell_type": "code",
   "execution_count": 260,
   "metadata": {
    "collapsed": true
   },
   "outputs": [],
   "source": [
    "#TODO compute matrix multiplication AB, return None if the dimensions don't match\n",
    "def listMultiply(A,B):\n",
    "    t = 0\n",
    "    l1=len(A)\n",
    "    i = 0\n",
    "    while i<l1:\n",
    "        t+=A[i]*B[i]\n",
    "        i+=1\n",
    "    return t\n",
    "\n",
    "def matxMultiply(A, B):\n",
    "    ar,ac = shape(A)\n",
    "    br,bc = shape(B)\n",
    "    \n",
    "    if not ac == br:\n",
    "        return None\n",
    "    else:\n",
    "        C = []\n",
    "        Bt = transpose(B)\n",
    "        for r in range(0,ar):\n",
    "            temp = []\n",
    "            for c in range(0,bc):\n",
    "                temp.append(listMultiply(A[r],Bt[c]))\n",
    "            C.append(temp)\n",
    "    return C"
   ]
  },
  {
   "cell_type": "code",
   "execution_count": 261,
   "metadata": {},
   "outputs": [
    {
     "name": "stderr",
     "output_type": "stream",
     "text": [
      ".\n",
      "----------------------------------------------------------------------\n",
      "Ran 1 test in 0.062s\n",
      "\n",
      "OK\n"
     ]
    }
   ],
   "source": [
    "# run following code to test your matxMultiply function\n",
    "%run -i -e test.py LinearRegressionTestCase.test_matxMultiply"
   ]
  },
  {
   "cell_type": "markdown",
   "metadata": {},
   "source": [
    "---\n",
    "\n",
    "# 2 Gaussian Jordan Elimination\n",
    "\n",
    "## 2.1 Compute augmented Matrix \n",
    "\n",
    "$ A = \\begin{bmatrix}\n",
    "    a_{11}    & a_{12} & ... & a_{1n}\\\\\n",
    "    a_{21}    & a_{22} & ... & a_{2n}\\\\\n",
    "    a_{31}    & a_{22} & ... & a_{3n}\\\\\n",
    "    ...    & ... & ... & ...\\\\\n",
    "    a_{n1}    & a_{n2} & ... & a_{nn}\\\\\n",
    "\\end{bmatrix} , b = \\begin{bmatrix}\n",
    "    b_{1}  \\\\\n",
    "    b_{2}  \\\\\n",
    "    b_{3}  \\\\\n",
    "    ...    \\\\\n",
    "    b_{n}  \\\\\n",
    "\\end{bmatrix}$\n",
    "\n",
    "Return $ Ab = \\begin{bmatrix}\n",
    "    a_{11}    & a_{12} & ... & a_{1n} & b_{1}\\\\\n",
    "    a_{21}    & a_{22} & ... & a_{2n} & b_{2}\\\\\n",
    "    a_{31}    & a_{22} & ... & a_{3n} & b_{3}\\\\\n",
    "    ...    & ... & ... & ...& ...\\\\\n",
    "    a_{n1}    & a_{n2} & ... & a_{nn} & b_{n} \\end{bmatrix}$"
   ]
  },
  {
   "cell_type": "code",
   "execution_count": 262,
   "metadata": {
    "collapsed": true
   },
   "outputs": [],
   "source": [
    "#TODO construct the augment matrix of matrix A and column vector b, assuming A and b have same number of rows\n",
    "import copy\n",
    "def augmentMatrix(A, b):\n",
    "    ar,ac = shape(A)\n",
    "    i = 0\n",
    "    AA = copy.deepcopy(A)\n",
    "    while i<ar :\n",
    "        AA[i].append(b[i][0])\n",
    "        i += 1 \n",
    "    return AA"
   ]
  },
  {
   "cell_type": "code",
   "execution_count": 263,
   "metadata": {},
   "outputs": [
    {
     "name": "stderr",
     "output_type": "stream",
     "text": [
      ".\n",
      "----------------------------------------------------------------------\n",
      "Ran 1 test in 0.015s\n",
      "\n",
      "OK\n"
     ]
    }
   ],
   "source": [
    "# run following code to test your augmentMatrix function\n",
    "%run -i -e test.py LinearRegressionTestCase.test_augmentMatrix"
   ]
  },
  {
   "cell_type": "markdown",
   "metadata": {},
   "source": [
    "## 2.2 Basic row operations\n",
    "- exchange two rows\n",
    "- scale a row\n",
    "- add a scaled row to another"
   ]
  },
  {
   "cell_type": "code",
   "execution_count": 264,
   "metadata": {
    "collapsed": true
   },
   "outputs": [],
   "source": [
    "# TODO r1 <---> r2\n",
    "# TODO in-place operation, no return value\n",
    "def swapRows(M, r1, r2):\n",
    "    temp = []\n",
    "    temp = M[r1]\n",
    "    M[r1] = M[r2]\n",
    "    M[r2] = temp\n",
    "    pass"
   ]
  },
  {
   "cell_type": "code",
   "execution_count": 265,
   "metadata": {
    "scrolled": true
   },
   "outputs": [
    {
     "name": "stderr",
     "output_type": "stream",
     "text": [
      ".\n",
      "----------------------------------------------------------------------\n",
      "Ran 1 test in 0.002s\n",
      "\n",
      "OK\n"
     ]
    }
   ],
   "source": [
    "# run following code to test your swapRows function\n",
    "%run -i -e test.py LinearRegressionTestCase.test_swapRows"
   ]
  },
  {
   "cell_type": "code",
   "execution_count": 268,
   "metadata": {
    "collapsed": true
   },
   "outputs": [],
   "source": [
    "# TODO r1 <--- r1 * scale\n",
    "# TODO in-place operation, no return value\n",
    "def scaleRow(M, r, scale):\n",
    "    if scale == 0:\n",
    "        raise ValueError('scale can\\'t be 0')\n",
    "    else:\n",
    "        row,col=shape(M)\n",
    "        for i in range(0,len(M[r])):\n",
    "                M[r][i] = M[r][i]*scale\n",
    "    pass"
   ]
  },
  {
   "cell_type": "code",
   "execution_count": 269,
   "metadata": {
    "scrolled": false
   },
   "outputs": [
    {
     "name": "stderr",
     "output_type": "stream",
     "text": [
      ".\n",
      "----------------------------------------------------------------------\n",
      "Ran 1 test in 0.002s\n",
      "\n",
      "OK\n"
     ]
    }
   ],
   "source": [
    "# run following code to test your scaleRow function\n",
    "%run -i -e test.py LinearRegressionTestCase.test_scaleRow"
   ]
  },
  {
   "cell_type": "code",
   "execution_count": 270,
   "metadata": {
    "collapsed": true
   },
   "outputs": [],
   "source": [
    "# TODO r1 <--- r1 + r2*scale\n",
    "# TODO in-place operation, no return value\n",
    "def addScaledRow(M, r1, r2, scale):\n",
    "    row,col=shape(M)\n",
    "    for i in range(0,len(M[r2])):\n",
    "            M[r1][i] += M[r2][i]*scale\n",
    "pass"
   ]
  },
  {
   "cell_type": "code",
   "execution_count": 271,
   "metadata": {},
   "outputs": [
    {
     "name": "stderr",
     "output_type": "stream",
     "text": [
      ".\n",
      "----------------------------------------------------------------------\n",
      "Ran 1 test in 0.003s\n",
      "\n",
      "OK\n"
     ]
    }
   ],
   "source": [
    "# run following code to test your addScaledRow function\n",
    "%run -i -e test.py LinearRegressionTestCase.test_addScaledRow"
   ]
  },
  {
   "cell_type": "markdown",
   "metadata": {},
   "source": [
    "## 2.3  Gauss-jordan method to solve Ax = b\n",
    "\n",
    "### Hint：\n",
    "\n",
    "Step 1: Check if A and b have same number of rows\n",
    "Step 2: Construct augmented matrix Ab\n",
    "\n",
    "Step 3: Column by column, transform Ab to reduced row echelon form [wiki link](https://en.wikipedia.org/wiki/Row_echelon_form#Reduced_row_echelon_form)\n",
    "    \n",
    "    for every column of Ab (except the last one)\n",
    "        column c is the current column\n",
    "        Find in column c, at diagonal and under diagonal (row c ~ N) the maximum absolute value\n",
    "        If the maximum absolute value is 0\n",
    "            then A is singular, return None （Prove this proposition in Question 2.4）\n",
    "        else\n",
    "            Apply row operation 1, swap the row of maximum with the row of diagonal element (row c)\n",
    "            Apply row operation 2, scale the diagonal element of column c to 1\n",
    "            Apply row operation 3 mutiple time, eliminate every other element in column c\n",
    "            \n",
    "Step 4: return the last column of Ab\n",
    "\n",
    "### Remark：\n",
    "We don't use the standard algorithm first transfering Ab to row echelon form and then to reduced row echelon form.  Instead, we arrives directly at reduced row echelon form. If you are familiar with the stardard way, try prove to yourself that they are equivalent. "
   ]
  },
  {
   "cell_type": "code",
   "execution_count": 272,
   "metadata": {
    "collapsed": true
   },
   "outputs": [],
   "source": [
    "#TODO implement gaussian jordan method to solve Ax = b\n",
    "\n",
    "\"\"\" Gauss-jordan method to solve x such that Ax = b.\n",
    "        A: square matrix, list of lists\n",
    "        b: column vector, list of lists\n",
    "        decPts: degree of rounding, default value 4\n",
    "        epsilon: threshold for zero, default value 1.0e-16\n",
    "        \n",
    "    return x such that Ax = b, list of lists \n",
    "    return None if A and b have same height\n",
    "    return None if A is (almost) singular\n",
    "\"\"\"\n",
    "def round_elements_in_list(l,decPts=4):\n",
    "    new_l = []\n",
    "    for e in l:\n",
    "        e = round(e[0],decPts)\n",
    "        new_l += [e]\n",
    "    return new_l\n",
    "\n",
    "def deep_copy(M):\n",
    "    mr,mc = shape(M)\n",
    "    new_r = []\n",
    "    new_m = []\n",
    "    for r in M:\n",
    "        new_r = r[:]\n",
    "        new_m.append(new_r)\n",
    "    return new_m\n",
    "\n",
    "def rre_form(M,decPts=4,epsilon=1.0e-16):\n",
    "    M_copy = M[:]\n",
    "    mr,mc = shape(M)\n",
    "    for j in range(mc):\n",
    "        current_column = get_current_column(M_copy,j)\n",
    "        max_under_diagnal_value,max_row = max_diagnal_and_under_value(current_column,j)\n",
    "        if max_under_diagnal_value == 0:\n",
    "            return None\n",
    "        else:\n",
    "            if j>(mr-1):\n",
    "                return M_copy\n",
    "            else:\n",
    "                swapRows(M_copy, j, max_row)\n",
    "                #scale = round(1./M_copy[j][j],decPts)\n",
    "                scale = 1./M_copy[j][j]\n",
    "                scaleRow(M_copy, j, scale)\n",
    "                eliminate_other_element_in_column(M_copy,j,epsilon,decPts)\n",
    "    return M_copy\n",
    "\n",
    "def eliminate_other_element_in_column(M,j,epsilon = 1.0e-16,decPts=4):\n",
    "    mr,mc = shape(M)\n",
    "    for i in range(mr):\n",
    "        if not i == j:\n",
    "            if abs(M[i][j]) > epsilon:\n",
    "                addScaledRow(M, i, j, round(-M[i][j],decPts))\n",
    "        else:\n",
    "            continue\n",
    "    return M\n",
    "\n",
    "def get_current_column(M,current_j):\n",
    "    mr,mc = shape(M)\n",
    "    if current_j>mc:\n",
    "        return None\n",
    "    else:\n",
    "        c = []\n",
    "        for i in range(mr):\n",
    "            c.append(M[i][current_j])\n",
    "        return c\n",
    "    \n",
    "def gcc(M,current_j):\n",
    "    mr,mc = shape(M)\n",
    "    if current_j>mc:\n",
    "        return None\n",
    "    else:\n",
    "        c = []\n",
    "        for i in range(mr):\n",
    "            c.append([M[i][current_j]])\n",
    "        return c\n",
    "    \n",
    "def max_diagnal_and_under_value(c,c1):\n",
    "    if c1>(len(c)-1):\n",
    "        return None,None\n",
    "    else:\n",
    "        max_value = 0\n",
    "        max_index = 0\n",
    "        for i in range(c1,len(c)):\n",
    "            if abs(c[i]) > max_value:\n",
    "                max_value = abs(c[i])\n",
    "                max_index = i\n",
    "        return max_value,max_index\n",
    "\n",
    "def gj_Solve(A, b, decPts=4, epsilon = 1.0e-16):\n",
    "    ar,ac = shape(A)\n",
    "    br = len(b)\n",
    "    # Step 1: Check if A and b have same number of rows \n",
    "    if not ar == br:\n",
    "        return None\n",
    "    else:\n",
    "        matxRound(A, decPts)\n",
    "        round_elements_in_list(b,decPts)\n",
    "        A_copy = deep_copy(A)\n",
    "        Ab = augmentMatrix(A_copy, b)\n",
    "        # Step 3: Column by column, transform Ab to reduced row echelon form\n",
    "        rre_Ab = rre_form(Ab,decPts,epsilon)\n",
    "        if rre_Ab == None:\n",
    "            return None\n",
    "        else:\n",
    "            # Step 4: return the last column of Ab\n",
    "            solution = gcc(rre_Ab,ac)\n",
    "    return solution"
   ]
  },
  {
   "cell_type": "code",
   "execution_count": 273,
   "metadata": {
    "scrolled": true
   },
   "outputs": [
    {
     "name": "stderr",
     "output_type": "stream",
     "text": [
      ".\n",
      "----------------------------------------------------------------------\n",
      "Ran 1 test in 0.056s\n",
      "\n",
      "OK\n"
     ]
    }
   ],
   "source": [
    "# run following code to test your addScaledRow function\n",
    "%run -i -e test.py LinearRegressionTestCase.test_gj_Solve"
   ]
  },
  {
   "cell_type": "markdown",
   "metadata": {},
   "source": [
    "## 2.4 Prove the following proposition:\n",
    "\n",
    "**If square matrix A can be divided into four parts: ** \n",
    "\n",
    "$ A = \\begin{bmatrix}\n",
    "    I    & X \\\\\n",
    "    Z    & Y \\\\\n",
    "\\end{bmatrix} $, where I is the identity matrix, Z is all zero and the first column of Y is all zero, \n",
    "\n",
    "**then A is singular.**\n",
    "\n",
    "Hint: There are mutiple ways to prove this problem.  \n",
    "- consider the rank of Y and A\n",
    "- consider the determinate of Y and A \n",
    "- consider certain column is the linear combination of other columns"
   ]
  },
  {
   "cell_type": "markdown",
   "metadata": {},
   "source": [
    "TODO Please use latex （refering to the latex in problem may help）\n",
    "\n",
    "TODO Proof："
   ]
  },
  {
   "cell_type": "markdown",
   "metadata": {},
   "source": [
    "---\n",
    "\n",
    "# 3 Linear Regression: \n",
    "\n",
    "## 3.1 Compute the gradient of loss function with respect to parameters \n",
    "## (Choose one between two 3.1 questions)\n",
    "\n",
    "We define loss funtion $E$ as \n",
    "$$\n",
    "E(m, b) = \\sum_{i=1}^{n}{(y_i - mx_i - b)^2}\n",
    "$$\n",
    "and we define vertex $Y$, matrix $X$ and vertex $h$ :\n",
    "$$\n",
    "Y =  \\begin{bmatrix}\n",
    "    y_1 \\\\\n",
    "    y_2 \\\\\n",
    "    ... \\\\\n",
    "    y_n\n",
    "\\end{bmatrix}\n",
    ",\n",
    "X =  \\begin{bmatrix}\n",
    "    x_1 & 1 \\\\\n",
    "    x_2 & 1\\\\\n",
    "    ... & ...\\\\\n",
    "    x_n & 1 \\\\\n",
    "\\end{bmatrix},\n",
    "h =  \\begin{bmatrix}\n",
    "    m \\\\\n",
    "    b \\\\\n",
    "\\end{bmatrix}\n",
    "$$\n",
    "\n",
    "\n",
    "Proves that \n",
    "$$\n",
    "\\frac{\\partial E}{\\partial m} = \\sum_{i=1}^{n}{-2x_i(y_i - mx_i - b)}\n",
    "$$\n",
    "\n",
    "$$\n",
    "\\frac{\\partial E}{\\partial b} = \\sum_{i=1}^{n}{-2(y_i - mx_i - b)}\n",
    "$$\n",
    "\n",
    "$$\n",
    "\\begin{bmatrix}\n",
    "    \\frac{\\partial E}{\\partial m} \\\\\n",
    "    \\frac{\\partial E}{\\partial b} \n",
    "\\end{bmatrix} = 2X^TXh - 2X^TY\n",
    "$$"
   ]
  },
  {
   "cell_type": "markdown",
   "metadata": {},
   "source": [
    "TODO Please use latex （refering to the latex in problem may help）\n",
    "\n",
    "TODO Proof："
   ]
  },
  {
   "cell_type": "markdown",
   "metadata": {},
   "source": [
    "## 3.1 Compute the gradient of loss function with respect to parameters \n",
    "## (Choose one between two 3.1 questions)\n",
    "We define loss funtion $E$ as \n",
    "$$\n",
    "E(m, b) = \\sum_{i=1}^{n}{(y_i - mx_i - b)^2}\n",
    "$$\n",
    "and we define vertex $Y$, matrix $X$ and vertex $h$ :\n",
    "$$\n",
    "Y =  \\begin{bmatrix}\n",
    "    y_1 \\\\\n",
    "    y_2 \\\\\n",
    "    ... \\\\\n",
    "    y_n\n",
    "\\end{bmatrix}\n",
    ",\n",
    "X =  \\begin{bmatrix}\n",
    "    x_1 & 1 \\\\\n",
    "    x_2 & 1\\\\\n",
    "    ... & ...\\\\\n",
    "    x_n & 1 \\\\\n",
    "\\end{bmatrix},\n",
    "h =  \\begin{bmatrix}\n",
    "    m \\\\\n",
    "    b \\\\\n",
    "\\end{bmatrix}\n",
    "$$\n",
    "\n",
    "Proves that \n",
    "$$\n",
    "E = Y^TY -2(Xh)^TY + (Xh)^TXh\n",
    "$$\n",
    "\n",
    "$$\n",
    "\\frac{\\partial E}{\\partial h} = 2X^TXh - 2X^TY\n",
    "$$"
   ]
  },
  {
   "cell_type": "markdown",
   "metadata": {},
   "source": [
    "TODO Please use latex （refering to the latex in problem may help）\n",
    "\n",
    "TODO Proof："
   ]
  },
  {
   "cell_type": "markdown",
   "metadata": {},
   "source": [
    "## 3.2  Linear Regression\n",
    "### Solve equation $X^TXh = X^TY $ to compute the best parameter for linear regression."
   ]
  },
  {
   "cell_type": "code",
   "execution_count": 274,
   "metadata": {},
   "outputs": [],
   "source": [
    "#TODO implement linear regression \n",
    "'''\n",
    "points: list of (x,y) tuple\n",
    "return m and b\n",
    "''' \n",
    "def linearRegression(p):\n",
    "    p_copy = p[:]\n",
    "    m=0\n",
    "    b=0\n",
    "    \n",
    "    X = gcc(p_copy,0)\n",
    "    for i in X:\n",
    "        i.append(1)\n",
    "        \n",
    "    XT = transpose(X)\n",
    "    \n",
    "    Y = gcc(p_copy,1)\n",
    "    \n",
    "    A = matxMultiply(XT,X)\n",
    "    \n",
    "    B = matxMultiply(XT,Y)\n",
    "    \n",
    "    s = gj_Solve(A,B)\n",
    "    \n",
    "    m=s[0]\n",
    "    b=s[1]\n",
    "    return m,b"
   ]
  },
  {
   "cell_type": "markdown",
   "metadata": {},
   "source": [
    "## 3.3 Test your linear regression implementation"
   ]
  },
  {
   "cell_type": "code",
   "execution_count": 275,
   "metadata": {},
   "outputs": [
    {
     "data": {
      "image/png": "[encoded data removed]",
      "text/plain": [
       "<matplotlib.figure.Figure at 0x1101a4240>"
      ]
     },
     "metadata": {},
     "output_type": "display_data"
    },
    {
     "name": "stdout",
     "output_type": "stream",
     "text": [
      "M after compute is:[0.40309555130866914]compare with ground truth: 0.4\n",
      "b after compute is:[0.12941885038840711]compare with ground truth: 0.2\n"
     ]
    }
   ],
   "source": [
    "#TODO Construct the linear function\n",
    "def linear(p,m,b):\n",
    "    h = [m,b]\n",
    "    p_copy=p[:]\n",
    "\n",
    "    for i in p_copy:\n",
    "        i.append(1)\n",
    "    \n",
    "    Y_predict = matxMultiply(p_copy,h)\n",
    "    \n",
    "    return Y_predict\n",
    "\n",
    "#TODO Construct points with gaussian noise\n",
    "import random\n",
    "import matplotlib.pyplot as plt\n",
    "\n",
    "points = []\n",
    "points_with_noise = []\n",
    "\n",
    "xp=[]\n",
    "yp=[]\n",
    "\n",
    "xpn=[]\n",
    "ypn=[]\n",
    "\n",
    "for i in range(1,100):\n",
    "    w=[0.4,0.2]\n",
    "    \n",
    "    x = random.randint(1,100)\n",
    "    nx = random.gauss(0, 1)\n",
    "    xn = round(x+nx,2)\n",
    "    xp+=[x]\n",
    "    xpn+=[xn]\n",
    "    \n",
    "    y = round(x*w[0]+w[1],2)\n",
    "    ny = random.gauss(0, 1)\n",
    "    yn = round(y+ny,2)\n",
    "    yp+=[y]\n",
    "    ypn+=[yn]\n",
    "    \n",
    "    points.append([x]+[y])\n",
    "    points_with_noise.append([xn]+[yn])\n",
    "\n",
    "#TODO Compute m and b and compare with ground truth\n",
    "m,b=linearRegression(points_with_noise)\n",
    "\n",
    "x=[]\n",
    "for i in range(1,100):\n",
    "    x.append([i])\n",
    "\n",
    "y_predict = linear(x,m,b)\n",
    "\n",
    "\n",
    "plt.plot(gcc(x,0), y_predict)\n",
    "plt.plot(xpn,ypn,'o',color='red')\n",
    "plt.show()\n",
    "\n",
    "print('M after compute is:'+ str(m)+'compare with ground truth: 0.4')\n",
    "print('b after compute is:'+ str(b)+'compare with ground truth: 0.2')"
   ]
  },
  {
   "cell_type": "code",
   "execution_count": null,
   "metadata": {
    "collapsed": true
   },
   "outputs": [],
   "source": []
  }
 ],
 "metadata": {
  "anaconda-cloud": {},
  "celltoolbar": "Raw Cell Format",
  "kernelspec": {
   "display_name": "Python 3",
   "language": "python",
   "name": "python3"
  },
  "language_info": {
   "codemirror_mode": {
    "name": "ipython",
    "version": 3
   },
   "file_extension": ".py",
   "mimetype": "text/x-python",
   "name": "python",
   "nbconvert_exporter": "python",
   "pygments_lexer": "ipython3",
   "version": "3.6.1"
  }
 },
 "nbformat": 4,
 "nbformat_minor": 2
}
